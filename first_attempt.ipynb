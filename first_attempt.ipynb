{
 "cells": [
  {
   "cell_type": "code",
   "execution_count": 157,
   "metadata": {},
   "outputs": [],
   "source": [
    "import pandas as pd\n",
    "import numpy as np"
   ]
  },
  {
   "cell_type": "code",
   "execution_count": 158,
   "metadata": {},
   "outputs": [
    {
     "data": {
      "text/plain": [
       "(9999, 3)"
      ]
     },
     "execution_count": 158,
     "metadata": {},
     "output_type": "execute_result"
    }
   ],
   "source": [
    "#Load CSV\n",
    "df = pd.read_csv(\"WaterUsageSample.csv\")\n",
    "df.shape"
   ]
  },
  {
   "cell_type": "code",
   "execution_count": 159,
   "metadata": {},
   "outputs": [
    {
     "data": {
      "text/html": [
       "<div>\n",
       "<style scoped>\n",
       "    .dataframe tbody tr th:only-of-type {\n",
       "        vertical-align: middle;\n",
       "    }\n",
       "\n",
       "    .dataframe tbody tr th {\n",
       "        vertical-align: top;\n",
       "    }\n",
       "\n",
       "    .dataframe thead th {\n",
       "        text-align: right;\n",
       "    }\n",
       "</style>\n",
       "<table border=\"1\" class=\"dataframe\">\n",
       "  <thead>\n",
       "    <tr style=\"text-align: right;\">\n",
       "      <th></th>\n",
       "      <th>DepartmentId</th>\n",
       "      <th>Date</th>\n",
       "      <th>Volume</th>\n",
       "    </tr>\n",
       "  </thead>\n",
       "  <tbody>\n",
       "    <tr>\n",
       "      <th>0</th>\n",
       "      <td>17</td>\n",
       "      <td>2017-10-02</td>\n",
       "      <td>46.887036</td>\n",
       "    </tr>\n",
       "    <tr>\n",
       "      <th>1</th>\n",
       "      <td>47</td>\n",
       "      <td>2017-10-09</td>\n",
       "      <td>8.889073</td>\n",
       "    </tr>\n",
       "    <tr>\n",
       "      <th>2</th>\n",
       "      <td>15</td>\n",
       "      <td>2017-04-17</td>\n",
       "      <td>19.497602</td>\n",
       "    </tr>\n",
       "    <tr>\n",
       "      <th>3</th>\n",
       "      <td>38</td>\n",
       "      <td>2017-07-28</td>\n",
       "      <td>96.291533</td>\n",
       "    </tr>\n",
       "    <tr>\n",
       "      <th>4</th>\n",
       "      <td>17</td>\n",
       "      <td>2017-06-25</td>\n",
       "      <td>98.615424</td>\n",
       "    </tr>\n",
       "  </tbody>\n",
       "</table>\n",
       "</div>"
      ],
      "text/plain": [
       "   DepartmentId        Date     Volume\n",
       "0            17  2017-10-02  46.887036\n",
       "1            47  2017-10-09   8.889073\n",
       "2            15  2017-04-17  19.497602\n",
       "3            38  2017-07-28  96.291533\n",
       "4            17  2017-06-25  98.615424"
      ]
     },
     "execution_count": 159,
     "metadata": {},
     "output_type": "execute_result"
    }
   ],
   "source": [
    "#Read the header of the dataframe\n",
    "df.head()"
   ]
  },
  {
   "cell_type": "code",
   "execution_count": 168,
   "metadata": {},
   "outputs": [],
   "source": [
    "#Get unique department ID\n",
    "depart_id = np.unique(df[\"DepartmentId\"])\n",
    "\n",
    "#Changing pandas \"Date\" to datetime format and getting the unique dates\n",
    "df['Date'] = pd.to_datetime(df['Date'])\n",
    "months_list = [i.month for i in df['Date']]\n",
    "dates_uniq = np.unique(df['Date'])\n",
    "\n",
    "#Sorting df by Date order\n",
    "df = df.sort_values('Date',ascending=True)"
   ]
  },
  {
   "cell_type": "code",
   "execution_count": 129,
   "metadata": {},
   "outputs": [],
   "source": [
    "#Task 1: A Daily Consumption, broken down by department and then date\n",
    "\n",
    "new_df = []\n",
    "for i in range(len(df)-1):\n",
    "    if (df.iloc[i,0] == df.iloc[i+1,0]) and (df.iloc[i,1] == df.iloc[i+1,1]):\n",
    "        volume = df.iloc[i,2] + df.iloc[i+1,2]\n",
    "        df.drop(df.index[[i+1]])\n",
    "        dt = df.iloc[i,1]\n",
    "        depart = df.iloc[i,0]\n",
    "        d = {'DepartmentId': depart, 'Date': dt, 'Volume': volume}\n",
    "        new_df.append(d)\n",
    "        \n",
    "    elif (df.iloc[i,0] != df.iloc[i+1,0]) and (df.iloc[i,1] != df.iloc[i+1,1]):\n",
    "        d = {'DepartmentId': df.iloc[i,0], 'Date': df.iloc[i,1], 'Volume': df.iloc[i,2]}\n",
    "        new_df.append(d)\n",
    "             "
   ]
  },
  {
   "cell_type": "code",
   "execution_count": 141,
   "metadata": {},
   "outputs": [],
   "source": [
    "#New dataframe\n",
    "#They might be values that might still be sharing dates and department ID,\n",
    "#re-run similar loop to the one above with new created dataframe to make sure that that no values repeat.\n",
    "columns = ['DepartmentId', \"Date\", \"Volume\"]\n",
    "df_ = pd.DataFrame(data = new_df, columns = columns)\n",
    "df_.to_csv(\"Task1.csv\", sep='\\t')"
   ]
  },
  {
   "cell_type": "code",
   "execution_count": 142,
   "metadata": {},
   "outputs": [],
   "source": [
    "# Task 2: An average daily consumption for each month, broken down by department\n",
    "\n",
    "#loop through each row\n",
    "for i in range(len(df)-1):\n",
    "    \n",
    "    #compare months and save the value of the department, date and volume\n",
    "    #try to save the volume for each department in different list\n",
    "    #then later sum all the values for the volumns per department\n",
    "    #something of this nature will help.\n",
    "    if df.iloc[i,1].month = 1:\n",
    "        vol_lst = []\n",
    "        vol_lst.append(df.iloc[i,2])\n",
    "        \n",
    "    elif df.iloc[i,1].month = 2:\n",
    "        vol_lst = []\n",
    "        vol_lst.append(df.iloc[i,2]) \n",
    "        \n",
    "    elif df.iloc[i,1].month = 3:\n",
    "        vol_lst = []\n",
    "        vol_lst.append(df.iloc[i,2]) \n",
    "        \n",
    "    elif df.iloc[i,1].month = 4:\n",
    "        vol_lst = []\n",
    "        vol_lst.append(df.iloc[i,2]) \n",
    "        \n",
    "    elif df.iloc[i,1].month = 5:\n",
    "        vol_lst = []\n",
    "        vol_lst.append(df.iloc[i,2]) \n",
    "        \n",
    "    elif df.iloc[i,1].month = 6:\n",
    "        vol_lst = []\n",
    "        vol_lst.append(df.iloc[i,2]) \n",
    "        \n",
    "    elif df.iloc[i,1].month = 7:\n",
    "        vol_lst = []\n",
    "        vol_lst.append(df.iloc[i,2]) \n",
    "        \n",
    "    elif df.iloc[i,1].month = 8:\n",
    "        vol_lst = []\n",
    "        vol_lst.append(df.iloc[i,2]) \n",
    "        \n",
    "    elif df.iloc[i,1].month = 9:\n",
    "        vol_lst = []\n",
    "        vol_lst.append(df.iloc[i,2]) \n",
    "        \n",
    "    elif df.iloc[i,1].month = 10:\n",
    "        vol_lst = []\n",
    "        vol_lst.append(df.iloc[i,2]) \n",
    "        \n",
    "    elif df.iloc[i,1].month = 11:\n",
    "        vol_lst = []\n",
    "        vol_lst.append(df.iloc[i,2]) \n",
    "        \n",
    "        \n",
    "    elif df.iloc[i,1].month = 12:\n",
    "        vol_lst = []\n",
    "        vol_lst.append(df.iloc[i,2]) \n",
    "        "
   ]
  },
  {
   "cell_type": "code",
   "execution_count": null,
   "metadata": {},
   "outputs": [],
   "source": []
  }
 ],
 "metadata": {
  "kernelspec": {
   "display_name": "Python 3",
   "language": "python",
   "name": "python3"
  },
  "language_info": {
   "codemirror_mode": {
    "name": "ipython",
    "version": 3
   },
   "file_extension": ".py",
   "mimetype": "text/x-python",
   "name": "python",
   "nbconvert_exporter": "python",
   "pygments_lexer": "ipython3",
   "version": "3.6.4"
  }
 },
 "nbformat": 4,
 "nbformat_minor": 2
}
